{
  "nbformat": 4,
  "nbformat_minor": 0,
  "metadata": {
    "colab": {
      "name": "출석수업 예시.r",
      "provenance": [],
      "collapsed_sections": [],
      "authorship_tag": "ABX9TyO9eaEjjwLv6aKC4uzh0wHT",
      "include_colab_link": true
    },
    "kernelspec": {
      "name": "ir",
      "display_name": "R"
    },
    "language_info": {
      "name": "R"
    }
  },
  "cells": [
    {
      "cell_type": "markdown",
      "metadata": {
        "id": "view-in-github",
        "colab_type": "text"
      },
      "source": [
        "<a href=\"https://colab.research.google.com/github/hwahyeon/KNOU_Statistics/blob/main/%EB%B9%84%EC%A0%95%ED%98%95%EB%8D%B0%EC%9D%B4%ED%84%B0%EB%B6%84%EC%84%9D/%EC%B6%9C%EC%84%9D%EC%88%98%EC%97%85_%EC%98%88%EC%8B%9C_r.ipynb\" target=\"_parent\"><img src=\"https://colab.research.google.com/assets/colab-badge.svg\" alt=\"Open In Colab\"/></a>"
      ]
    },
    {
      "cell_type": "markdown",
      "metadata": {
        "id": "qd8sXYupYH18"
      },
      "source": [
        ""
      ]
    },
    {
      "cell_type": "code",
      "metadata": {
        "colab": {
          "base_uri": "https://localhost:8080/"
        },
        "id": "d3VPiOltXbKy",
        "outputId": "7434ec92-5efb-4811-c4f9-f8fb0551f541"
      },
      "source": [
        "library(rvest)\n",
        "library(dplyr)"
      ],
      "execution_count": 1,
      "outputs": [
        {
          "output_type": "stream",
          "name": "stderr",
          "text": [
            "\n",
            "Attaching package: ‘dplyr’\n",
            "\n",
            "\n",
            "The following objects are masked from ‘package:stats’:\n",
            "\n",
            "    filter, lag\n",
            "\n",
            "\n",
            "The following objects are masked from ‘package:base’:\n",
            "\n",
            "    intersect, setdiff, setequal, union\n",
            "\n",
            "\n"
          ]
        }
      ]
    },
    {
      "cell_type": "code",
      "metadata": {
        "colab": {
          "base_uri": "https://localhost:8080/",
          "height": 294
        },
        "id": "PCHTGzHk5M9z",
        "outputId": "09ea119c-78c1-417a-f9c6-55fa9558b5de"
      },
      "source": [
        "exurl <- \"https://ko.wikipedia.org/wiki/%EB%B9%84%EC%A0%95%ED%98%95_%EB%8D%B0%EC%9D%B4%ED%84%B0\"\n",
        "html_ex <- read_html(exurl,encoding=\"UTF-8\")\n",
        "\n",
        "html_ex%>%html_nodes(\".mw-parser-output p\")%>%html_text()\n",
        "html_ex%>%html_nodes(\"#mw-content-text p\")%>%html_text()"
      ],
      "execution_count": 2,
      "outputs": [
        {
          "output_type": "display_data",
          "data": {
            "text/plain": [
              "[1] \"비정형 데이터(unstructured data, unstructured information, 비정형 정보), 비구조화 데이터, 비구조적 데이터는 미리 정의된 데이터 모델이 없거나 미리 정의된 방식으로 정리되지 않은 정보를 말한다. 비정형 정보는 일반적으로 텍스트 중심으로 되어 있으나 날짜, 숫자, 사실과 같은 데이터도 포함할 수 있다. 이로써 변칙과 모호함이 발생하므로 데이터베이스의 칸 형식의 폼에 저장되거나 문서에 주석화된(의미적으로 태그된) 데이터에 비해 전통적인 프로그램을 사용하여 이해하는 것을 불가능하게 만든다.\\n\"\n",
              "[2] \"1998년, 메릴린치는 잠재적으로 이용 가능한 모든 비즈니스 정보 중 약 80~90% 정도가 비정형 형식에서 기원한 것으로 보는 경험 법칙을 언급하였다.[1] 이 경험 법칙은 1차 연구나 양적 연구에 근간을 두지 않지만 그럼에도 일부 받아들여지고 있다.[2]\"                                                                                                                                                                                                                                                     \n",
              "[3] \"비즈니스 인텔리전스에 대한 최초의 연구는 수치 데이터가 아닌 비정형 텍스트 형태의 데이터에 초점을 두었다.[1] 1958년 초에 H. P. Luhn 등의 컴퓨터 과학 연구원들은 특히 비정형 텍스트의 추출과 분류에 관심을 가졌다.[1] 그러나 세기가 바뀐 뒤에서야 비로소 기술이 연구적 관심을 따라잡을 수 있게 되었다. 2004년, SAS 인스티튜트는 더 효율적인 분석을 위하여 특이값 분해(SVD)로 초차원적 텍스트 공간을 더 작은 차원으로 줄이기 위해 사용되는 SAS 텍스트 마이너를 개발하였다.[2]\"                      "
            ],
            "text/latex": "\\begin{enumerate*}\n\\item '비정형 데이터(unstructured data, unstructured information, 비정형 정보), 비구조화 데이터, 비구조적 데이터는 미리 정의된 데이터 모델이 없거나 미리 정의된 방식으로 정리되지 않은 정보를 말한다. 비정형 정보는 일반적으로 텍스트 중심으로 되어 있으나 날짜, 숫자, 사실과 같은 데이터도 포함할 수 있다. 이로써 변칙과 모호함이 발생하므로 데이터베이스의 칸 형식의 폼에 저장되거나 문서에 주석화된(의미적으로 태그된) 데이터에 비해 전통적인 프로그램을 사용하여 이해하는 것을 불가능하게 만든다.\\textbackslash{}n'\n\\item '1998년, 메릴린치는 잠재적으로 이용 가능한 모든 비즈니스 정보 중 약 80\\textasciitilde{}90\\% 정도가 비정형 형식에서 기원한 것으로 보는 경험 법칙을 언급하였다.{[}1{]} 이 경험 법칙은 1차 연구나 양적 연구에 근간을 두지 않지만 그럼에도 일부 받아들여지고 있다.{[}2{]}'\n\\item '비즈니스 인텔리전스에 대한 최초의 연구는 수치 데이터가 아닌 비정형 텍스트 형태의 데이터에 초점을 두었다.{[}1{]} 1958년 초에 H. P. Luhn 등의 컴퓨터 과학 연구원들은 특히 비정형 텍스트의 추출과 분류에 관심을 가졌다.{[}1{]} 그러나 세기가 바뀐 뒤에서야 비로소 기술이 연구적 관심을 따라잡을 수 있게 되었다. 2004년, SAS 인스티튜트는 더 효율적인 분석을 위하여 특이값 분해(SVD)로 초차원적 텍스트 공간을 더 작은 차원으로 줄이기 위해 사용되는 SAS 텍스트 마이너를 개발하였다.{[}2{]}'\n\\end{enumerate*}\n",
            "text/markdown": "1. '비정형 데이터(unstructured data, unstructured information, 비정형 정보), 비구조화 데이터, 비구조적 데이터는 미리 정의된 데이터 모델이 없거나 미리 정의된 방식으로 정리되지 않은 정보를 말한다. 비정형 정보는 일반적으로 텍스트 중심으로 되어 있으나 날짜, 숫자, 사실과 같은 데이터도 포함할 수 있다. 이로써 변칙과 모호함이 발생하므로 데이터베이스의 칸 형식의 폼에 저장되거나 문서에 주석화된(의미적으로 태그된) 데이터에 비해 전통적인 프로그램을 사용하여 이해하는 것을 불가능하게 만든다.\\n'\n2. '1998년, 메릴린치는 잠재적으로 이용 가능한 모든 비즈니스 정보 중 약 80~90% 정도가 비정형 형식에서 기원한 것으로 보는 경험 법칙을 언급하였다.[1] 이 경험 법칙은 1차 연구나 양적 연구에 근간을 두지 않지만 그럼에도 일부 받아들여지고 있다.[2]'\n3. '비즈니스 인텔리전스에 대한 최초의 연구는 수치 데이터가 아닌 비정형 텍스트 형태의 데이터에 초점을 두었다.[1] 1958년 초에 H. P. Luhn 등의 컴퓨터 과학 연구원들은 특히 비정형 텍스트의 추출과 분류에 관심을 가졌다.[1] 그러나 세기가 바뀐 뒤에서야 비로소 기술이 연구적 관심을 따라잡을 수 있게 되었다. 2004년, SAS 인스티튜트는 더 효율적인 분석을 위하여 특이값 분해(SVD)로 초차원적 텍스트 공간을 더 작은 차원으로 줄이기 위해 사용되는 SAS 텍스트 마이너를 개발하였다.[2]'\n\n\n",
            "text/html": [
              "<style>\n",
              ".list-inline {list-style: none; margin:0; padding: 0}\n",
              ".list-inline>li {display: inline-block}\n",
              ".list-inline>li:not(:last-child)::after {content: \"\\00b7\"; padding: 0 .5ex}\n",
              "</style>\n",
              "<ol class=list-inline><li>'비정형 데이터(unstructured data, unstructured information, 비정형 정보), 비구조화 데이터, 비구조적 데이터는 미리 정의된 데이터 모델이 없거나 미리 정의된 방식으로 정리되지 않은 정보를 말한다. 비정형 정보는 일반적으로 텍스트 중심으로 되어 있으나 날짜, 숫자, 사실과 같은 데이터도 포함할 수 있다. 이로써 변칙과 모호함이 발생하므로 데이터베이스의 칸 형식의 폼에 저장되거나 문서에 주석화된(의미적으로 태그된) 데이터에 비해 전통적인 프로그램을 사용하여 이해하는 것을 불가능하게 만든다.\\n'</li><li>'1998년, 메릴린치는 잠재적으로 이용 가능한 모든 비즈니스 정보 중 약 80~90% 정도가 비정형 형식에서 기원한 것으로 보는 경험 법칙을 언급하였다.[1] 이 경험 법칙은 1차 연구나 양적 연구에 근간을 두지 않지만 그럼에도 일부 받아들여지고 있다.[2]'</li><li>'비즈니스 인텔리전스에 대한 최초의 연구는 수치 데이터가 아닌 비정형 텍스트 형태의 데이터에 초점을 두었다.[1] 1958년 초에 H. P. Luhn 등의 컴퓨터 과학 연구원들은 특히 비정형 텍스트의 추출과 분류에 관심을 가졌다.[1] 그러나 세기가 바뀐 뒤에서야 비로소 기술이 연구적 관심을 따라잡을 수 있게 되었다. 2004년, SAS 인스티튜트는 더 효율적인 분석을 위하여 특이값 분해(SVD)로 초차원적 텍스트 공간을 더 작은 차원으로 줄이기 위해 사용되는 SAS 텍스트 마이너를 개발하였다.[2]'</li></ol>\n"
            ]
          },
          "metadata": {}
        },
        {
          "output_type": "display_data",
          "data": {
            "text/plain": [
              "[1] \"비정형 데이터(unstructured data, unstructured information, 비정형 정보), 비구조화 데이터, 비구조적 데이터는 미리 정의된 데이터 모델이 없거나 미리 정의된 방식으로 정리되지 않은 정보를 말한다. 비정형 정보는 일반적으로 텍스트 중심으로 되어 있으나 날짜, 숫자, 사실과 같은 데이터도 포함할 수 있다. 이로써 변칙과 모호함이 발생하므로 데이터베이스의 칸 형식의 폼에 저장되거나 문서에 주석화된(의미적으로 태그된) 데이터에 비해 전통적인 프로그램을 사용하여 이해하는 것을 불가능하게 만든다.\\n\"\n",
              "[2] \"1998년, 메릴린치는 잠재적으로 이용 가능한 모든 비즈니스 정보 중 약 80~90% 정도가 비정형 형식에서 기원한 것으로 보는 경험 법칙을 언급하였다.[1] 이 경험 법칙은 1차 연구나 양적 연구에 근간을 두지 않지만 그럼에도 일부 받아들여지고 있다.[2]\"                                                                                                                                                                                                                                                     \n",
              "[3] \"비즈니스 인텔리전스에 대한 최초의 연구는 수치 데이터가 아닌 비정형 텍스트 형태의 데이터에 초점을 두었다.[1] 1958년 초에 H. P. Luhn 등의 컴퓨터 과학 연구원들은 특히 비정형 텍스트의 추출과 분류에 관심을 가졌다.[1] 그러나 세기가 바뀐 뒤에서야 비로소 기술이 연구적 관심을 따라잡을 수 있게 되었다. 2004년, SAS 인스티튜트는 더 효율적인 분석을 위하여 특이값 분해(SVD)로 초차원적 텍스트 공간을 더 작은 차원으로 줄이기 위해 사용되는 SAS 텍스트 마이너를 개발하였다.[2]\"                      "
            ],
            "text/latex": "\\begin{enumerate*}\n\\item '비정형 데이터(unstructured data, unstructured information, 비정형 정보), 비구조화 데이터, 비구조적 데이터는 미리 정의된 데이터 모델이 없거나 미리 정의된 방식으로 정리되지 않은 정보를 말한다. 비정형 정보는 일반적으로 텍스트 중심으로 되어 있으나 날짜, 숫자, 사실과 같은 데이터도 포함할 수 있다. 이로써 변칙과 모호함이 발생하므로 데이터베이스의 칸 형식의 폼에 저장되거나 문서에 주석화된(의미적으로 태그된) 데이터에 비해 전통적인 프로그램을 사용하여 이해하는 것을 불가능하게 만든다.\\textbackslash{}n'\n\\item '1998년, 메릴린치는 잠재적으로 이용 가능한 모든 비즈니스 정보 중 약 80\\textasciitilde{}90\\% 정도가 비정형 형식에서 기원한 것으로 보는 경험 법칙을 언급하였다.{[}1{]} 이 경험 법칙은 1차 연구나 양적 연구에 근간을 두지 않지만 그럼에도 일부 받아들여지고 있다.{[}2{]}'\n\\item '비즈니스 인텔리전스에 대한 최초의 연구는 수치 데이터가 아닌 비정형 텍스트 형태의 데이터에 초점을 두었다.{[}1{]} 1958년 초에 H. P. Luhn 등의 컴퓨터 과학 연구원들은 특히 비정형 텍스트의 추출과 분류에 관심을 가졌다.{[}1{]} 그러나 세기가 바뀐 뒤에서야 비로소 기술이 연구적 관심을 따라잡을 수 있게 되었다. 2004년, SAS 인스티튜트는 더 효율적인 분석을 위하여 특이값 분해(SVD)로 초차원적 텍스트 공간을 더 작은 차원으로 줄이기 위해 사용되는 SAS 텍스트 마이너를 개발하였다.{[}2{]}'\n\\end{enumerate*}\n",
            "text/markdown": "1. '비정형 데이터(unstructured data, unstructured information, 비정형 정보), 비구조화 데이터, 비구조적 데이터는 미리 정의된 데이터 모델이 없거나 미리 정의된 방식으로 정리되지 않은 정보를 말한다. 비정형 정보는 일반적으로 텍스트 중심으로 되어 있으나 날짜, 숫자, 사실과 같은 데이터도 포함할 수 있다. 이로써 변칙과 모호함이 발생하므로 데이터베이스의 칸 형식의 폼에 저장되거나 문서에 주석화된(의미적으로 태그된) 데이터에 비해 전통적인 프로그램을 사용하여 이해하는 것을 불가능하게 만든다.\\n'\n2. '1998년, 메릴린치는 잠재적으로 이용 가능한 모든 비즈니스 정보 중 약 80~90% 정도가 비정형 형식에서 기원한 것으로 보는 경험 법칙을 언급하였다.[1] 이 경험 법칙은 1차 연구나 양적 연구에 근간을 두지 않지만 그럼에도 일부 받아들여지고 있다.[2]'\n3. '비즈니스 인텔리전스에 대한 최초의 연구는 수치 데이터가 아닌 비정형 텍스트 형태의 데이터에 초점을 두었다.[1] 1958년 초에 H. P. Luhn 등의 컴퓨터 과학 연구원들은 특히 비정형 텍스트의 추출과 분류에 관심을 가졌다.[1] 그러나 세기가 바뀐 뒤에서야 비로소 기술이 연구적 관심을 따라잡을 수 있게 되었다. 2004년, SAS 인스티튜트는 더 효율적인 분석을 위하여 특이값 분해(SVD)로 초차원적 텍스트 공간을 더 작은 차원으로 줄이기 위해 사용되는 SAS 텍스트 마이너를 개발하였다.[2]'\n\n\n",
            "text/html": [
              "<style>\n",
              ".list-inline {list-style: none; margin:0; padding: 0}\n",
              ".list-inline>li {display: inline-block}\n",
              ".list-inline>li:not(:last-child)::after {content: \"\\00b7\"; padding: 0 .5ex}\n",
              "</style>\n",
              "<ol class=list-inline><li>'비정형 데이터(unstructured data, unstructured information, 비정형 정보), 비구조화 데이터, 비구조적 데이터는 미리 정의된 데이터 모델이 없거나 미리 정의된 방식으로 정리되지 않은 정보를 말한다. 비정형 정보는 일반적으로 텍스트 중심으로 되어 있으나 날짜, 숫자, 사실과 같은 데이터도 포함할 수 있다. 이로써 변칙과 모호함이 발생하므로 데이터베이스의 칸 형식의 폼에 저장되거나 문서에 주석화된(의미적으로 태그된) 데이터에 비해 전통적인 프로그램을 사용하여 이해하는 것을 불가능하게 만든다.\\n'</li><li>'1998년, 메릴린치는 잠재적으로 이용 가능한 모든 비즈니스 정보 중 약 80~90% 정도가 비정형 형식에서 기원한 것으로 보는 경험 법칙을 언급하였다.[1] 이 경험 법칙은 1차 연구나 양적 연구에 근간을 두지 않지만 그럼에도 일부 받아들여지고 있다.[2]'</li><li>'비즈니스 인텔리전스에 대한 최초의 연구는 수치 데이터가 아닌 비정형 텍스트 형태의 데이터에 초점을 두었다.[1] 1958년 초에 H. P. Luhn 등의 컴퓨터 과학 연구원들은 특히 비정형 텍스트의 추출과 분류에 관심을 가졌다.[1] 그러나 세기가 바뀐 뒤에서야 비로소 기술이 연구적 관심을 따라잡을 수 있게 되었다. 2004년, SAS 인스티튜트는 더 효율적인 분석을 위하여 특이값 분해(SVD)로 초차원적 텍스트 공간을 더 작은 차원으로 줄이기 위해 사용되는 SAS 텍스트 마이너를 개발하였다.[2]'</li></ol>\n"
            ]
          },
          "metadata": {}
        }
      ]
    },
    {
      "cell_type": "code",
      "metadata": {
        "colab": {
          "base_uri": "https://localhost:8080/",
          "height": 203
        },
        "id": "ij7jmoymY__g",
        "outputId": "e04dd4b1-a7d0-41e4-88eb-5b4eebbb254d"
      },
      "source": [
        "ex2url <- \"http://www.index.go.kr/potal/main/EachDtlPageDetail.do?idx_cd=2736\"\n",
        "\n",
        "html_ex2 <- read_html(ex2url,encoding=\"UTF-8\")\n",
        "html_ex2%>%html_nodes(\".table_style_2\")%>%html_table()"
      ],
      "execution_count": 8,
      "outputs": [
        {
          "output_type": "display_data",
          "data": {
            "text/plain": [
              "[[1]]\n",
              "\u001b[90m# A tibble: 3 × 8\u001b[39m\n",
              "  ``         `2019`   `2020`   `20202/4` `20203/4` `20204/4` `20211/4` `20212/4`\n",
              "  \u001b[3m\u001b[90m<chr>\u001b[39m\u001b[23m      \u001b[3m\u001b[90m<chr>\u001b[39m\u001b[23m    \u001b[3m\u001b[90m<chr>\u001b[39m\u001b[23m    \u001b[3m\u001b[90m<chr>\u001b[39m\u001b[23m     \u001b[3m\u001b[90m<chr>\u001b[39m\u001b[23m     \u001b[3m\u001b[90m<chr>\u001b[39m\u001b[23m     \u001b[3m\u001b[90m<chr>\u001b[39m\u001b[23m     \u001b[3m\u001b[90m<chr>\u001b[39m\u001b[23m    \n",
              "\u001b[90m1\u001b[39m \u001b[90m\"\u001b[39m\u001b[90m\"\u001b[39m         \u001b[90m\"\u001b[39m\u001b[90m\"\u001b[39m       \u001b[90m\"\u001b[39m\u001b[90m\"\u001b[39m       \u001b[90m\"\u001b[39m\u001b[90m\"\u001b[39m        \u001b[90m\"\u001b[39m\u001b[90m\"\u001b[39m        \u001b[90m\"\u001b[39m\u001b[90m\"\u001b[39m        \u001b[90m\"\u001b[39m\u001b[90m\"\u001b[39m        \u001b[90m\"\u001b[39m\u001b[90m\"\u001b[39m       \n",
              "\u001b[90m2\u001b[39m \u001b[90m\"\u001b[39m국내총생… \u001b[90m\"\u001b[39m1,924,… \u001b[90m\"\u001b[39m1,933,… \u001b[90m\"\u001b[39m472,328… \u001b[90m\"\u001b[39m491,181… \u001b[90m\"\u001b[39m492,100… \u001b[90m\"\u001b[39m501,248… \u001b[90m\"\u001b[39m511,233…\n",
              "\u001b[90m3\u001b[39m \u001b[90m\"\u001b[39m경제성장… \u001b[90m\"\u001b[39m2.2\u001b[90m\"\u001b[39m    \u001b[90m\"\u001b[39m-0.9\u001b[90m\"\u001b[39m   \u001b[90m\"\u001b[39m-3.2\u001b[90m\"\u001b[39m    \u001b[90m\"\u001b[39m2.2\u001b[90m\"\u001b[39m     \u001b[90m\"\u001b[39m1.1\u001b[90m\"\u001b[39m     \u001b[90m\"\u001b[39m1.7\u001b[90m\"\u001b[39m     \u001b[90m\"\u001b[39m0.8\u001b[90m\"\u001b[39m    \n"
            ],
            "text/latex": "\\begin{enumerate}\n\\item A tibble: 3 × 8\n\\begin{tabular}{llllllll}\n  & 2019 & 2020 & 20202/4 & 20203/4 & 20204/4 & 20211/4 & 20212/4\\\\\n <chr> & <chr> & <chr> & <chr> & <chr> & <chr> & <chr> & <chr>\\\\\n\\hline\n\t                           &             &             &           &           &           &           &          \\\\\n\t 국내총생산(명목GDP)       & 1,924,498.1 & 1,933,152.4 & 472,328.1 & 491,181.5 & 492,100.1 & 501,248.1 & 511,233.1\\\\\n\t 경제성장률(실질GDP성장률) & 2.2         & -0.9        & -3.2      & 2.2       & 1.1       & 1.7       & 0.8      \\\\\n\\end{tabular}\n\n\\end{enumerate}\n",
            "text/markdown": "1. \nA tibble: 3 × 8\n\n| <!----> &lt;chr&gt; | 2019 &lt;chr&gt; | 2020 &lt;chr&gt; | 20202/4 &lt;chr&gt; | 20203/4 &lt;chr&gt; | 20204/4 &lt;chr&gt; | 20211/4 &lt;chr&gt; | 20212/4 &lt;chr&gt; |\n|---|---|---|---|---|---|---|---|\n| <!----> | <!----> | <!----> | <!----> | <!----> | <!----> | <!----> | <!----> |\n| 국내총생산(명목GDP)       | 1,924,498.1 | 1,933,152.4 | 472,328.1 | 491,181.5 | 492,100.1 | 501,248.1 | 511,233.1 |\n| 경제성장률(실질GDP성장률) | 2.2         | -0.9        | -3.2      | 2.2       | 1.1       | 1.7       | 0.8       |\n\n\n\n\n",
            "text/html": [
              "<ol>\n",
              "\t<li><table class=\"dataframe\">\n",
              "<caption>A tibble: 3 × 8</caption>\n",
              "<thead>\n",
              "\t<tr><th scope=col></th><th scope=col>2019</th><th scope=col>2020</th><th scope=col>20202/4</th><th scope=col>20203/4</th><th scope=col>20204/4</th><th scope=col>20211/4</th><th scope=col>20212/4</th></tr>\n",
              "\t<tr><th scope=col>&lt;chr&gt;</th><th scope=col>&lt;chr&gt;</th><th scope=col>&lt;chr&gt;</th><th scope=col>&lt;chr&gt;</th><th scope=col>&lt;chr&gt;</th><th scope=col>&lt;chr&gt;</th><th scope=col>&lt;chr&gt;</th><th scope=col>&lt;chr&gt;</th></tr>\n",
              "</thead>\n",
              "<tbody>\n",
              "\t<tr><td>                         </td><td>           </td><td>           </td><td>         </td><td>         </td><td>         </td><td>         </td><td>         </td></tr>\n",
              "\t<tr><td>국내총생산(명목GDP)      </td><td>1,924,498.1</td><td>1,933,152.4</td><td>472,328.1</td><td>491,181.5</td><td>492,100.1</td><td>501,248.1</td><td>511,233.1</td></tr>\n",
              "\t<tr><td>경제성장률(실질GDP성장률)</td><td>2.2        </td><td>-0.9       </td><td>-3.2     </td><td>2.2      </td><td>1.1      </td><td>1.7      </td><td>0.8      </td></tr>\n",
              "</tbody>\n",
              "</table>\n",
              "</li>\n",
              "</ol>\n"
            ]
          },
          "metadata": {}
        }
      ]
    }
  ]
}